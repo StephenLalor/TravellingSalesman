{
 "cells": [
  {
   "cell_type": "markdown",
   "metadata": {},
   "source": [
    "# Travelling Salesman\n",
    "## Genetic Algorithm"
   ]
  },
  {
   "cell_type": "markdown",
   "metadata": {},
   "source": [
    "In this project, we solve the Travelling Salesman problem, using genetic algorithm. We create a map of cities, a evolutionary agent in the form of our salesman, and compare our results to a brute force approach. Along the way, we do some nice optimisations, then visualise the result. There are notes on the cool stuff below."
   ]
  },
  {
   "cell_type": "markdown",
   "metadata": {},
   "source": [
    "### Creating a Grid of Cities\n",
    "\n",
    "**Measuring Distance**\n",
    "* It's good to avoid **sqrt()** for computational efficiency, we can use a relative distance measure instead.\n",
    "* To avoid repeatedly calculating the distance between 2 cities, we can store it in a cache initially.\n",
    "* Distance from *a* to *b* is the same as from *b* to *a*, so we avoid storing these duplicates.\n",
    "\n",
    "**Getting The Right Answer**\n",
    "* We can try all paths from city to city, to see which is the shortest.\n",
    "* With Heap's Algorithm we brute force all permuations in **O(n!)** time, the fastest possible.\n",
    "* Then we just sum up the precomputed distances between each city in each permutation and save the smallest trip.\n",
    "\n",
    "**Making Things Look Nice**\n",
    "* Printing the memory location for custom classes is not very useful.\n",
    "* We overwrite the **str()** method with a cool visual representation of the grid."
   ]
  },
  {
   "cell_type": "code",
   "execution_count": 2,
   "metadata": {},
   "outputs": [],
   "source": [
    "def heaps_algo(seq, length):\n",
    "  if length == 1:  # Base case.\n",
    "    yield seq\n",
    "    return\n",
    "  for i in range(length):\n",
    "    yield from heaps_algo(seq, length - 1)  # Length decrements on each call.\n",
    "    if length & 1:  # If length is even.\n",
    "      seq[0], seq[length - 1] = seq[length - 1], seq[0]  # Swap first and last.\n",
    "    else:\n",
    "      seq[i], seq[length - 1] = seq[length - 1], seq[i]  # Swap current and last."
   ]
  },
  {
   "cell_type": "code",
   "execution_count": 3,
   "metadata": {},
   "outputs": [],
   "source": [
    "from random import randint, random\n",
    "\n",
    "\n",
    "class City:\n",
    "  def __init__(self, name, pop, pos):\n",
    "    self.name = name\n",
    "    self.pop = pop\n",
    "    self.x = pos[0]\n",
    "    self.y = pos[1]\n",
    "\n",
    "  def __str__(self):\n",
    "    return f\"Name: {self.name}, Pos: ({self.x}, {self.y}), Pop: {self.pop}\"\n",
    "\n",
    "\n",
    "class CityMap:\n",
    "  def __init__(self, num_cities, grid_size):\n",
    "    self.grid_size = grid_size\n",
    "    self.cities = self.gen_cities(num_cities, grid_size)\n",
    "    self.dist_cache = self.cache_distance()  # Pre-computed distances.\n",
    "\n",
    "  def gen_cities(self, num_cities, grid_size):\n",
    "    chosen = set()  # Positions that are already taken.\n",
    "    cities = []\n",
    "    num = 0\n",
    "    while len(cities) < num_cities:  # Won't be too many cities so this is fine.\n",
    "      pos = (randint(0, grid_size[0]-1), randint(0, grid_size[1]-1))\n",
    "      if pos not in chosen:  # Consider time complexity when calling \"in\".\n",
    "        chosen.add(pos)\n",
    "        cities.append(City(num, random(), pos))\n",
    "        num += 1\n",
    "    return cities\n",
    "\n",
    "  def get_cities_coordinates(self):\n",
    "    return [[city.x, city.y] for city in self.cities]\n",
    "\n",
    "  def calc_dist(self, city_a_ind, city_b_ind):\n",
    "    x_diff = self.cities[city_a_ind].x - self.cities[city_b_ind].x\n",
    "    y_diff = self.cities[city_a_ind].y - self.cities[city_b_ind].y\n",
    "    return abs(x_diff) + abs(y_diff)  # Relative dist is all that matters.\n",
    "\n",
    "  def cache_distance(self):\n",
    "    cache = {}\n",
    "    for i in range(len(self.cities)):\n",
    "      for j in range(i+1, len(self.cities)):  # Don't want (1,2) and (2,1) or (2,2) so start at i+1.\n",
    "        cache[(i, j)] = self.calc_dist(i, j)\n",
    "    return cache\n",
    "\n",
    "  def get_cached_dist(self, i, j):\n",
    "    if (i, j) in self.dist_cache:\n",
    "      return self.dist_cache[(i, j)]\n",
    "    if (j, i) in self.dist_cache:  # Also search for reversed. Saves having to actually store it!\n",
    "      return self.dist_cache[(j, i)]\n",
    "    raise IndexError(f\"Neither {(i, j)} not {(j, i)} in dist_cache!\")\n",
    "\n",
    "  def get_path_dist(self, path):\n",
    "    tot_dist = 0\n",
    "    for i in range(1, len(path)):\n",
    "      tot_dist += self.get_cached_dist(path[i - 1], path[i])\n",
    "    return tot_dist\n",
    "\n",
    "  def gen_brute_force(self):\n",
    "    best_dist = float(\"Inf\")\n",
    "    best_path = []\n",
    "    cities_seq = list(range(len(self.cities)))\n",
    "    perms_generator = heaps_algo(cities_seq, len(self.cities))  # Generate all possible paths.\n",
    "    for path_perm in perms_generator:\n",
    "      tot_dist = self.get_path_dist(path_perm)\n",
    "      if tot_dist < best_dist:  # Update new best path and distance.\n",
    "        best_dist = tot_dist\n",
    "        best_path = path_perm.copy()\n",
    "    return best_path\n",
    "\n",
    "  def __str__(self):\n",
    "    lst = [[\" . \"] * self.grid_size[1] for _ in range(self.grid_size[0])]\n",
    "    for city in self.cities:\n",
    "      lst[city.x][city.y] = \" \" + str(city.name) + \" \"\n",
    "    output = []\n",
    "    for line in lst:\n",
    "      output += line + [\"\\n\"]\n",
    "    return \"\".join(output)\n"
   ]
  },
  {
   "cell_type": "markdown",
   "metadata": {},
   "source": [
    "# Creating An Evolutionary Agent\n",
    "\n",
    "**Fitness**\n",
    "* Shorter path is better, or more \"fit\". Simply invert path length, so short paths give high fitness.\n",
    "* Set minimum fitness, will be used in division so it can't be zero.\n",
    "\n",
    "**Crossover**\n",
    "* Take first **x** cities in first parent's path to form child's path.\n",
    "* Fill remaining cities using a sequence from the second parent's path.\n",
    "* Be careful not to take repeat cities.\n",
    "* Checking membership in a collection is **O(1)** for **set** but **O(n)** for **list**.\n",
    "\n",
    "**Mutation**\n",
    "* If the genetic info (path) of all parents is bad, we're stuck!\n",
    "* Can use random mutation of the child path to solve this, by swapping cities in the path.\n",
    "* For each city in the child's path, mutate it with a given probability."
   ]
  },
  {
   "cell_type": "code",
   "execution_count": 4,
   "metadata": {},
   "outputs": [],
   "source": [
    "from random import random, randint\n",
    "from numpy.random import choice\n",
    "\n",
    "\n",
    "class Salesman:\n",
    "  def __init__(self, city_map):\n",
    "    self.path = choice(len(city_map.cities), len(city_map.cities), replace=False).tolist()\n",
    "    self.fitness_lower_bound = 0.000005  # Everything has a fitness of at least this minimum level.\n",
    "    self.fitness = self.fitness_lower_bound\n",
    "    self.city_map = city_map\n",
    "\n",
    "  def calc_fitness(self):\n",
    "    tot_dist = self.city_map.get_path_dist(self.path)\n",
    "    fitness = 1 / (tot_dist + 1)  # Shorter distance is better, so invert.\n",
    "    self.fitness = max(self.fitness_lower_bound, fitness)\n",
    "\n",
    "  def crossover(self, other_parent):\n",
    "    path_len = len(self.path)\n",
    "    if len(self.path) != len(other_parent.path):\n",
    "      msg = f\"Child must have genes of same length as Parent! ({len(other_parent.path)} Vs {path_len})\"\n",
    "      raise ValueError(msg)\n",
    "    start = randint(0, path_len)\n",
    "    end = randint(min(start+1, path_len), path_len)  # Maintain the order of parent's path.\n",
    "    new_path = self.path[start:end+1]  # Initially take chunk of first parent.\n",
    "    new_path_members = set(new_path)  # Loop is O(n) so O(1) membership check makes sense.\n",
    "    for item in other_parent.path:  # Build remaining path.\n",
    "      if item not in new_path_members:  # O(1) membership check in set.\n",
    "        new_path_members.add(item)  # A bit messy appending to two things but O(1) each, so worth it.\n",
    "        new_path.append(item)\n",
    "        if len(new_path) >= path_len:\n",
    "          break\n",
    "    child = Salesman(self.city_map)\n",
    "    child.path = new_path\n",
    "    return child\n",
    "\n",
    "  def attempt_mutation(self, mutation_probability):\n",
    "    if 0 > mutation_probability > 1:\n",
    "      raise ValueError(\"The mutation_probability must be between 0 and 1!\")\n",
    "    for i in range(len(self.path)):  # TODO: Could swap two *neighbours* instead.\n",
    "      if mutation_probability > random():\n",
    "        rand_pos = randint(0, len(self.path)-1)  # Random index to swap with.\n",
    "        self.path[i], self.path[rand_pos] = self.path[rand_pos], self.path[i]\n"
   ]
  },
  {
   "cell_type": "markdown",
   "metadata": {},
   "source": [
    "### Creating An Evolutionary Environment\n",
    "\n",
    "**Roulette Wheel Sampling**\n",
    "* 2 parents must be selected from the mating pool and parents with higher fitness should be selected more often.\n",
    "* The fitter the parent, the more space it occupies on a \"roulette wheel\" *i.e.* the larger its interval.\n",
    "* We generate a random number, and return the parent whose interval the number fits in.\n",
    "* We find the interval using binary search, in **O(logn)** time.\n",
    "\n",
    "**Reproduction**\n",
    "* Evolution requires combining elements of both parents, *i.e.* crossover.\n",
    "* During crossover, a random mutation can occur.\n",
    "* The child resulting from this process is added to the next generation.\n",
    "\n",
    "**Evolution**\n",
    "* Looping process: Reproduce -> Calculate Fitness -> Update Best Path -> Check if Finished.\n",
    "* Finished if a child reaches a threshold target fitness level, or at a max number of generations (iterations)."
   ]
  },
  {
   "cell_type": "code",
   "execution_count": 5,
   "metadata": {},
   "outputs": [],
   "source": [
    "from random import uniform\n",
    "from salesman import Salesman\n",
    "\n",
    "\n",
    "class Environment:\n",
    "  def __init__(self, evo_setup):\n",
    "    self.population = [Salesman(evo_setup[\"city_map\"]) for _ in range(evo_setup[\"pop_size\"])]\n",
    "    self.mutation_probability = evo_setup[\"mutation_prob\"]\n",
    "    self.best = self.population[0]\n",
    "    self.finished = False\n",
    "    self.generation = 0\n",
    "    self.target_fitness = evo_setup[\"target_fitness\"]\n",
    "    self.max_gens = evo_setup[\"max_gens\"]\n",
    "    self.best_salesmen = []\n",
    "\n",
    "  def calc_pop_fitness(self):\n",
    "    for salesman in self.population:\n",
    "      salesman.calc_fitness()\n",
    "\n",
    "  def update_best(self):\n",
    "    for salesman in self.population:\n",
    "      if salesman.fitness > self.best.fitness:  # New best salesman.\n",
    "        self.best = salesman\n",
    "      if salesman.fitness >= self.target_fitness:  # Terminate if target fitness already achieved.\n",
    "        self.finished = True\n",
    "\n",
    "  def roulette_sample(self):\n",
    "\n",
    "    #  Get probability intervals:\n",
    "    total_weight = sum(salesman.fitness for salesman in self.population)\n",
    "    rel_weight = [salesman.fitness / total_weight for salesman in self.population]\n",
    "    for i in range(1, len(rel_weight)):\n",
    "      rel_weight[i] = rel_weight[i] + rel_weight[i - 1]\n",
    "\n",
    "    #  Binary search the interval random num fits in:\n",
    "    random_num = uniform(0, rel_weight[-1])\n",
    "    left, right = 0, len(rel_weight)\n",
    "    while left < right:\n",
    "      mid = (left + right) // 2\n",
    "      if random_num > rel_weight[mid]:\n",
    "        left = mid + 1\n",
    "      else:\n",
    "        right = mid\n",
    "    return self.population[left]\n",
    "\n",
    "  def reproduce(self):\n",
    "    next_generation = []\n",
    "    for _ in range(len(self.population)):\n",
    "      parent_a = self.roulette_sample()\n",
    "      parent_b = self.roulette_sample()\n",
    "      child = parent_a.crossover(parent_b)\n",
    "      child.attempt_mutation(self.mutation_probability)\n",
    "      next_generation.append(child)  # Can't add child to pop we're sampling from.\n",
    "    self.population = next_generation.copy()\n",
    "\n",
    "  def display(self):\n",
    "    print(f\"[Gen {self.generation}] Best: '{self.best.path}' Score: {self.best.fitness}\")\n",
    "\n",
    "  def sim(self):\n",
    "    while not self.finished:\n",
    "      self.update_best()\n",
    "      self.reproduce()\n",
    "      self.calc_pop_fitness()\n",
    "      self.best_salesmen.append(self.best)\n",
    "      self.generation += 1\n",
    "      if self.max_gens and self.generation > self.max_gens:\n",
    "        self.finished = True\n"
   ]
  },
  {
   "cell_type": "markdown",
   "metadata": {},
   "source": [
    "# Results\n",
    "\n",
    "**The Best Path**\n",
    "* We expect the evolution method to find the same length path as the brute force method.\n",
    "* Genetic Algorithm is not deterministic though, so finding the best result is not guaranteed.\n",
    "* There may be multiple paths with the optimal length."
   ]
  },
  {
   "cell_type": "code",
   "execution_count": 6,
   "metadata": {},
   "outputs": [],
   "source": [
    "import matplotlib.pyplot as plt\n",
    "\n",
    "\n",
    "def plot_cities(city_map):\n",
    "  cities_x = [city.x for city in city_map.cities]\n",
    "  cities_y = [city.y for city in city_map.cities]\n",
    "  colours = [\"yellow\"] * len(cities_x)\n",
    "  colours[0] = \"green\"\n",
    "  colours[-1] = \"red\"\n",
    "  _, ax = plt.subplots()\n",
    "  ax.grid(zorder=0)\n",
    "  ax.scatter(cities_x, cities_y, s=350, zorder=3, color=colours)\n",
    "  for i in range(1, len(cities_x)):\n",
    "    from_loc = (cities_x[i], cities_y[i])\n",
    "    to_loc = (cities_x[i-1], cities_y[i-1])\n",
    "    plt.annotate(text=f\"{i}\", xy=from_loc, xytext=to_loc, arrowprops=dict(arrowstyle=\"->\"))\n",
    "  plt.annotate(text=f\"{len(cities_x)}\", xy=(cities_x[-1], cities_y[-1]))\n",
    "  plt.show()\n",
    "\n",
    "def plot_fitness(best_salesmen):\n",
    "  generation = range(len(best_salesmen))\n",
    "  fitness = [salesman.fitness for salesman in best_salesmen]\n",
    "  _, ax = plt.subplots()\n",
    "  ax.plot(generation, fitness)\n",
    "  ax.set(xlabel=\"Generation\", ylabel=\"Fitness\", title=\"Salesman Fitness\")\n",
    "  ax.grid()\n",
    "  plt.show()\n"
   ]
  },
  {
   "cell_type": "markdown",
   "metadata": {},
   "source": [
    "# Running The Simulation"
   ]
  },
  {
   "cell_type": "code",
   "execution_count": 7,
   "metadata": {},
   "outputs": [],
   "source": [
    "evo_setup = {\n",
    "  \"city_map\": CityMap(8, (10, 10)),\n",
    "  \"pop_size\": 250,\n",
    "  \"mutation_prob\": 0.2,\n",
    "  \"target_fitness\": 1,\n",
    "  \"max_gens\": 100\n",
    "}"
   ]
  },
  {
   "cell_type": "code",
   "execution_count": 8,
   "metadata": {},
   "outputs": [],
   "source": [
    "environment = Environment(evo_setup)\n",
    "environment.sim()\n",
    "best_path_sim = environment.best.path\n",
    "best_path_sim_dist = evo_setup[\"city_map\"].get_path_dist(best_path_sim)"
   ]
  },
  {
   "cell_type": "code",
   "execution_count": 9,
   "metadata": {},
   "outputs": [],
   "source": [
    "best_path_bf = evo_setup[\"city_map\"].gen_brute_force()\n",
    "best_path_bf_dist = evo_setup[\"city_map\"].get_path_dist(best_path_bf)"
   ]
  },
  {
   "cell_type": "code",
   "execution_count": 10,
   "metadata": {},
   "outputs": [
    {
     "name": "stdout",
     "output_type": "stream",
     "text": [
      "[Brute Force] Path: [4, 0, 7, 2, 1, 5, 6, 3] with length: 24\n",
      "[Genetic Algorithm] Path: [4, 0, 7, 2, 1, 5, 6, 3] with length: 24\n"
     ]
    }
   ],
   "source": [
    "print(f\"[Brute Force] Path: {best_path_bf} with length: {best_path_bf_dist}\")\n",
    "print(f\"[Genetic Algorithm] Path: {best_path_sim} with length: {best_path_sim_dist}\")"
   ]
  },
  {
   "cell_type": "code",
   "execution_count": 21,
   "metadata": {},
   "outputs": [],
   "source": [
    "plt.rcParams['figure.figsize'] = [16, 8] # Increase matplotlib plot size.S"
   ]
  },
  {
   "cell_type": "code",
   "execution_count": 22,
   "metadata": {},
   "outputs": [
    {
     "data": {
      "image/png": "[encoded data removed]",
      "text/plain": [
       "<Figure size 1152x576 with 1 Axes>"
      ]
     },
     "metadata": {
      "needs_background": "light"
     },
     "output_type": "display_data"
    }
   ],
   "source": [
    "plot_cities(evo_setup[\"city_map\"])"
   ]
  },
  {
   "cell_type": "code",
   "execution_count": 23,
   "metadata": {},
   "outputs": [
    {
     "data": {
      "image/png": "[encoded data removed]",
      "text/plain": [
       "<Figure size 1152x576 with 1 Axes>"
      ]
     },
     "metadata": {
      "needs_background": "light"
     },
     "output_type": "display_data"
    }
   ],
   "source": [
    "plot_fitness(environment.best_salesmen)"
   ]
  }
 ],
 "metadata": {
  "interpreter": {
   "hash": "473e8d585ba78eb989bf227c008b2c01364b03a2fda9c69869bc3120d334b55e"
  },
  "kernelspec": {
   "display_name": "Python 3.9.2 ('venv': venv)",
   "language": "python",
   "name": "python3"
  },
  "language_info": {
   "codemirror_mode": {
    "name": "ipython",
    "version": 3
   },
   "file_extension": ".py",
   "mimetype": "text/x-python",
   "name": "python",
   "nbconvert_exporter": "python",
   "pygments_lexer": "ipython3",
   "version": "3.9.2"
  },
  "orig_nbformat": 4
 },
 "nbformat": 4,
 "nbformat_minor": 2
}
